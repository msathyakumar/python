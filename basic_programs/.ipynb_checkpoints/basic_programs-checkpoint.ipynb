{
 "cells": [
  {
   "cell_type": "markdown",
   "metadata": {},
   "source": [
    "# swapping of two numbers"
   ]
  },
  {
   "cell_type": "code",
   "execution_count": 3,
   "metadata": {},
   "outputs": [
    {
     "name": "stdout",
     "output_type": "stream",
     "text": [
      "before swapping 10 20\n",
      "after swapping 20 10\n"
     ]
    }
   ],
   "source": [
    "a,b=10,20\n",
    "print('before swapping',a,b)\n",
    "b,a=a,b\n",
    "print('after swapping',a,b)"
   ]
  },
  {
   "cell_type": "code",
   "execution_count": 21,
   "metadata": {},
   "outputs": [
    {
     "name": "stdout",
     "output_type": "stream",
     "text": [
      "enter the value of n :-2\n",
      "enter the valid number\n",
      "sum of n numbers is 0\n"
     ]
    }
   ],
   "source": [
    "#sum of n numbers\n",
    "n = int(input('enter the value of n :'))\n",
    "s=0\n",
    "if n>=0:\n",
    "    for i in range(1,n+1):\n",
    "        s+=i\n",
    "    print('sum of n numbers is %d'%s)\n",
    "    \n",
    "else:\n",
    "    print('enter the valid number')\n",
    "\n",
    "        "
   ]
  },
  {
   "cell_type": "code",
   "execution_count": null,
   "metadata": {},
   "outputs": [],
   "source": [
    "#factorial of n numbers\n",
    "n= int(input(\"\"))"
   ]
  },
  {
   "cell_type": "code",
   "execution_count": null,
   "metadata": {},
   "outputs": [],
   "source": []
  },
  {
   "cell_type": "code",
   "execution_count": null,
   "metadata": {},
   "outputs": [],
   "source": []
  },
  {
   "cell_type": "code",
   "execution_count": null,
   "metadata": {},
   "outputs": [],
   "source": []
  }
 ],
 "metadata": {
  "kernelspec": {
   "display_name": "Python 3",
   "language": "python",
   "name": "python3"
  },
  "language_info": {
   "codemirror_mode": {
    "name": "ipython",
    "version": 3
   },
   "file_extension": ".py",
   "mimetype": "text/x-python",
   "name": "python",
   "nbconvert_exporter": "python",
   "pygments_lexer": "ipython3",
   "version": "3.7.4"
  }
 },
 "nbformat": 4,
 "nbformat_minor": 2
}
